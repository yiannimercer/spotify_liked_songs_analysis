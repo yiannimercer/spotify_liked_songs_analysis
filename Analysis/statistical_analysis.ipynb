{
 "cells": [
  {
   "attachments": {},
   "cell_type": "markdown",
   "metadata": {},
   "source": [
    "# <center>A Statistical Analysis of Music Taste</center>\n",
    "## <center>Yianni Mercer</center>\n",
    "## <center>MAT 441 Applied Statistics | DePaul University</center>\n",
    "## <center>Final Project</center>\n",
    " <center> <img src=\"imgs/Spotify_Logo_RGB_Green.jpeg\" style=\"height:100px\">  <center>"
   ]
  },
  {
   "cell_type": "markdown",
   "metadata": {},
   "source": [
    "## Abstract\n",
    "\n",
    "Utilizing Spotify's REST API, paired with a [third party data source](https://www.kaggle.com/zaheenhamidani/ultimate-spotify-tracks-db) we were able to analyze over 175 thousand songs, that all contained categorical track information and numerical audio data.  These features consisted of genre, artist's name, popularity, acousticness, danceability, track duration, energy, instrumentalness, tempo, time signature, and valence.   Additionally, the Spotify API allowed us to extract my personal *liked* tracks, along with the date these songs were added to my *Favorites* playlist.  The goal of this analysis, at a glance, is to quantify my listening habits and my music taste.  Specifically, this report aims to determine how each of the former audio features relate to the likelihood I will like a given song, and to build a model that could predict this event.  ***ADD OVERALL FINDINGS | WHICH VARIABLES ARE IMPORTANT IN ME LIKING A SONG | RESULTS OF LOGISTIC REGRESSION MODEL | OTHER RESULTS FROM VARIOUS STATISTICAL TESTS****"
   ]
  },
  {
   "cell_type": "markdown",
   "metadata": {},
   "source": [
    "## Background and Purpose of Study\n",
    "Spotify is just one of many audio streaming platforms and digital media platforms.  According to [Statista](https://www.statista.com/statistics/244995/number-of-paying-spotify-subscribers/), over 172 million people subscribe to Spotify's premium services.  Digital music distribution, as an industry, is increasingly powered by automated mechnaisms that continuously capture, sort, and analyze large amounts of Web-based data [(Spera, 2019)](https://www.researchgate.net/publication/340171849_A_Model_Based_Approach_to_Spotify_Data_Analysis_A_Beta_GLMM).  While there are some platforms like Apple Music who do not allow their users or any developers to access, Spotify is on the other side of this fence.  Spotify, since at least 2014, has allowed their users and developers to access the data the platform has at it's disposal via the *Spotify Web API* [(Robles, 2014)](https://www.programmableweb.com/news/spotify-launches-new-version-its-web-api/2014/06/17). Since then, countless number of companies and individual people have been able to harness this data for use in their application or software. [[8]](https://developer.spotify.com/community/showcase/)  However, many data enthusiasts like myself, see a rare opportunity to analyze numerical data that they themselves are generating nearly every day of their lives.  I watned to analyze the likelihood I would like a song based on my current listening history.  For instance, is there an audio feature, perhaps popularity, that is a very strong indicator that I will indeed add the song to my favorites playlist (like the song)?  What really does make a song a hit and popular? [(Arancibia, 2021)](https://medium.com/codex/analyzing-spotify-data-tracks-what-makes-a-song-a-hit-and-popular-5ef319272fde)  Does my music taste change from season to season?  \n",
    "***ADD MORE QUESTIONS THAT RELATE TO OTHER STUDIES I HAVE FOUND ONLINE***"
   ]
  },
  {
   "cell_type": "markdown",
   "metadata": {},
   "source": []
  },
  {
   "cell_type": "code",
   "execution_count": 38,
   "metadata": {},
   "outputs": [
    {
     "data": {
      "text/plain": [
       "Index(['Unnamed: 0', 'genre', 'artist_name', 'track_name', 'track_id',\n",
       "       'popularity', 'acousticness', 'danceability', 'duration_ms', 'energy',\n",
       "       'instrumentalness', 'key', 'liveness', 'loudness', 'mode',\n",
       "       'speechiness', 'tempo', 'time_signature', 'valence', 'liked',\n",
       "       'date_liked', 'liked_date'],\n",
       "      dtype='object')"
      ]
     },
     "execution_count": 38,
     "metadata": {},
     "output_type": "execute_result"
    }
   ],
   "source": [
    "df.columns"
   ]
  },
  {
   "cell_type": "code",
   "execution_count": null,
   "metadata": {},
   "outputs": [],
   "source": []
  }
 ],
 "metadata": {
  "kernelspec": {
   "display_name": "Python 3",
   "language": "python",
   "name": "python3"
  },
  "language_info": {
   "codemirror_mode": {
    "name": "ipython",
    "version": 3
   },
   "file_extension": ".py",
   "mimetype": "text/x-python",
   "name": "python",
   "nbconvert_exporter": "python",
   "pygments_lexer": "ipython3",
   "version": "3.8.5"
  }
 },
 "nbformat": 4,
 "nbformat_minor": 4
}
